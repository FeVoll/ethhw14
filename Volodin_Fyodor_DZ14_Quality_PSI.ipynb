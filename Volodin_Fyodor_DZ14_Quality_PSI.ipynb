{
 "cells": [
  {
   "cell_type": "markdown",
   "id": "08165aea",
   "metadata": {},
   "source": [
    "# Домашнее задание: Расчёт метрики PSI\n",
    "**Дисциплина:** ETL-процессы  \n",
    "**Тема:** Управление данными и их качество\n",
    "\n",
    "**Цель:** Реализовать расчёт метрики Population Stability Index (PSI)"
   ]
  },
  {
   "cell_type": "code",
   "execution_count": 2,
   "id": "b0f08d18",
   "metadata": {},
   "outputs": [],
   "source": [
    "import numpy as np\n",
    "import pandas as pd\n",
    "import matplotlib.pyplot as plt"
   ]
  },
  {
   "cell_type": "markdown",
   "id": "c9e41c03",
   "metadata": {},
   "source": [
    "## 1. Синтетическая генерация данных"
   ]
  },
  {
   "cell_type": "code",
   "execution_count": 3,
   "id": "03a7e2a7",
   "metadata": {},
   "outputs": [],
   "source": [
    "# Базовые и новые данные\n",
    "np.random.seed(123)\n",
    "data_train = np.random.normal(loc=0.0, scale=1.0, size=1000)\n",
    "data_score = np.random.normal(loc=0.5, scale=1.2, size=1000)"
   ]
  },
  {
   "cell_type": "markdown",
   "id": "b305965f",
   "metadata": {},
   "source": [
    "## 2. Альтернативная реализация PSI"
   ]
  },
  {
   "cell_type": "code",
   "execution_count": 5,
   "id": "6076317f",
   "metadata": {},
   "outputs": [],
   "source": [
    "def population_stability_index(ref_data, curr_data, bins=10):\n",
    "    # Создаём разбиение по квантилям на базе референсных данных\n",
    "    bin_edges = np.percentile(ref_data, np.linspace(0, 100, bins + 1))\n",
    "\n",
    "    ref_hist, _ = np.histogram(ref_data, bins=bin_edges)\n",
    "    curr_hist, _ = np.histogram(curr_data, bins=bin_edges)\n",
    "\n",
    "    ref_percents = ref_hist / len(ref_data)\n",
    "    curr_percents = curr_hist / len(curr_data)\n",
    "\n",
    "    # Защита от деления на ноль и логарифма нуля\n",
    "    ref_percents = np.where(ref_percents == 0, 1e-5, ref_percents)\n",
    "    curr_percents = np.where(curr_percents == 0, 1e-5, curr_percents)\n",
    "\n",
    "    psi_values = (ref_percents - curr_percents) * np.log(ref_percents / curr_percents)\n",
    "    return np.sum(psi_values)"
   ]
  },
  {
   "cell_type": "markdown",
   "id": "369aba60",
   "metadata": {},
   "source": [
    "## 3. Расчёт PSI без и с аномалиями"
   ]
  },
  {
   "cell_type": "code",
   "execution_count": 6,
   "id": "63407a3a",
   "metadata": {},
   "outputs": [
    {
     "name": "stdout",
     "output_type": "stream",
     "text": [
      "PSI (без аномалий): 0.2777\n"
     ]
    }
   ],
   "source": [
    "psi_normal = population_stability_index(data_train, data_score)\n",
    "print(f\"PSI (без аномалий): {psi_normal:.4f}\")"
   ]
  },
  {
   "cell_type": "code",
   "execution_count": 7,
   "id": "b92ed4bb",
   "metadata": {},
   "outputs": [
    {
     "name": "stdout",
     "output_type": "stream",
     "text": [
      "PSI (с аномалиями): 0.2749\n"
     ]
    }
   ],
   "source": [
    "# Добавим сильные выбросы в скоред выборку\n",
    "anomalies = np.random.normal(loc=5.0, scale=0.5, size=100)\n",
    "data_score_anomalous = np.concatenate([data_score, anomalies])\n",
    "psi_anomalous = population_stability_index(data_train, data_score_anomalous)\n",
    "print(f\"PSI (с аномалиями): {psi_anomalous:.4f}\")"
   ]
  },
  {
   "cell_type": "markdown",
   "id": "16faeb51",
   "metadata": {},
   "source": [
    "## 4. Вывод\n",
    "- PSI < 0.1 — стабильность сохраняется.\n",
    "- PSI > 0.2 — существенные изменения, стоит пересмотреть модель или данные.\n",
    "- Мы показали, как PSI растёт при добавлении аномалий."
   ]
  }
 ],
 "metadata": {
  "kernelspec": {
   "display_name": "Python 3 (ipykernel)",
   "language": "python",
   "name": "python3"
  },
  "language_info": {
   "codemirror_mode": {
    "name": "ipython",
    "version": 3
   },
   "file_extension": ".py",
   "mimetype": "text/x-python",
   "name": "python",
   "nbconvert_exporter": "python",
   "pygments_lexer": "ipython3",
   "version": "3.12.10"
  }
 },
 "nbformat": 4,
 "nbformat_minor": 5
}
